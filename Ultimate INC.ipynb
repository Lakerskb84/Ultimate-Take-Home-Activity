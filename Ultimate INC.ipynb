{
 "cells": [
  {
   "cell_type": "markdown",
   "metadata": {},
   "source": [
    "Part 1: Ultimate Challenge"
   ]
  },
  {
   "cell_type": "code",
   "execution_count": 965,
   "metadata": {},
   "outputs": [],
   "source": [
    "#Import Pandas\n",
    "import pandas as pd\n",
    "#import numpy \n",
    "import numpy as np \n",
    "#import json\n",
    "import json"
   ]
  },
  {
   "cell_type": "code",
   "execution_count": 966,
   "metadata": {},
   "outputs": [
    {
     "data": {
      "text/html": [
       "<div>\n",
       "<style scoped>\n",
       "    .dataframe tbody tr th:only-of-type {\n",
       "        vertical-align: middle;\n",
       "    }\n",
       "\n",
       "    .dataframe tbody tr th {\n",
       "        vertical-align: top;\n",
       "    }\n",
       "\n",
       "    .dataframe thead th {\n",
       "        text-align: right;\n",
       "    }\n",
       "</style>\n",
       "<table border=\"1\" class=\"dataframe\">\n",
       "  <thead>\n",
       "    <tr style=\"text-align: right;\">\n",
       "      <th></th>\n",
       "      <th>login_time</th>\n",
       "    </tr>\n",
       "  </thead>\n",
       "  <tbody>\n",
       "    <tr>\n",
       "      <th>0</th>\n",
       "      <td>1970-01-01 20:13:18</td>\n",
       "    </tr>\n",
       "    <tr>\n",
       "      <th>1</th>\n",
       "      <td>1970-01-01 20:16:10</td>\n",
       "    </tr>\n",
       "    <tr>\n",
       "      <th>2</th>\n",
       "      <td>1970-01-01 20:16:37</td>\n",
       "    </tr>\n",
       "    <tr>\n",
       "      <th>3</th>\n",
       "      <td>1970-01-01 20:16:36</td>\n",
       "    </tr>\n",
       "    <tr>\n",
       "      <th>4</th>\n",
       "      <td>1970-01-01 20:26:21</td>\n",
       "    </tr>\n",
       "  </tbody>\n",
       "</table>\n",
       "</div>"
      ],
      "text/plain": [
       "            login_time\n",
       "0  1970-01-01 20:13:18\n",
       "1  1970-01-01 20:16:10\n",
       "2  1970-01-01 20:16:37\n",
       "3  1970-01-01 20:16:36\n",
       "4  1970-01-01 20:26:21"
      ]
     },
     "execution_count": 966,
     "metadata": {},
     "output_type": "execute_result"
    }
   ],
   "source": [
    "#making sure all lines are of json format and then loading the file\n",
    "file= open('logins.json','r')\n",
    "file_content = file.read()\n",
    "file.close()\n",
    "data= json.loads(file_content)\n",
    "df= pd.DataFrame(data)\n",
    "df.head()"
   ]
  },
  {
   "cell_type": "code",
   "execution_count": 967,
   "metadata": {},
   "outputs": [
    {
     "data": {
      "text/html": [
       "<div>\n",
       "<style scoped>\n",
       "    .dataframe tbody tr th:only-of-type {\n",
       "        vertical-align: middle;\n",
       "    }\n",
       "\n",
       "    .dataframe tbody tr th {\n",
       "        vertical-align: top;\n",
       "    }\n",
       "\n",
       "    .dataframe thead th {\n",
       "        text-align: right;\n",
       "    }\n",
       "</style>\n",
       "<table border=\"1\" class=\"dataframe\">\n",
       "  <thead>\n",
       "    <tr style=\"text-align: right;\">\n",
       "      <th></th>\n",
       "      <th>count</th>\n",
       "    </tr>\n",
       "    <tr>\n",
       "      <th>Date</th>\n",
       "      <th></th>\n",
       "    </tr>\n",
       "  </thead>\n",
       "  <tbody>\n",
       "    <tr>\n",
       "      <th>1970-01-01 20:13:18</th>\n",
       "      <td>1</td>\n",
       "    </tr>\n",
       "    <tr>\n",
       "      <th>1970-01-01 20:16:10</th>\n",
       "      <td>1</td>\n",
       "    </tr>\n",
       "    <tr>\n",
       "      <th>1970-01-01 20:16:37</th>\n",
       "      <td>1</td>\n",
       "    </tr>\n",
       "    <tr>\n",
       "      <th>1970-01-01 20:16:36</th>\n",
       "      <td>1</td>\n",
       "    </tr>\n",
       "    <tr>\n",
       "      <th>1970-01-01 20:26:21</th>\n",
       "      <td>1</td>\n",
       "    </tr>\n",
       "  </tbody>\n",
       "</table>\n",
       "</div>"
      ],
      "text/plain": [
       "                     count\n",
       "Date                      \n",
       "1970-01-01 20:13:18      1\n",
       "1970-01-01 20:16:10      1\n",
       "1970-01-01 20:16:37      1\n",
       "1970-01-01 20:16:36      1\n",
       "1970-01-01 20:26:21      1"
      ]
     },
     "execution_count": 967,
     "metadata": {},
     "output_type": "execute_result"
    }
   ],
   "source": [
    "#changing login_time to Date and creating a new count column \n",
    "df.columns=['Date']\n",
    "df['count']= 1\n",
    "df['Date']=pd.to_datetime(df['Date'])\n",
    "df.set_index('Date', inplace=True)\n",
    "df.head()"
   ]
  },
  {
   "cell_type": "code",
   "execution_count": 968,
   "metadata": {},
   "outputs": [
    {
     "data": {
      "text/html": [
       "<div>\n",
       "<style scoped>\n",
       "    .dataframe tbody tr th:only-of-type {\n",
       "        vertical-align: middle;\n",
       "    }\n",
       "\n",
       "    .dataframe tbody tr th {\n",
       "        vertical-align: top;\n",
       "    }\n",
       "\n",
       "    .dataframe thead th {\n",
       "        text-align: right;\n",
       "    }\n",
       "</style>\n",
       "<table border=\"1\" class=\"dataframe\">\n",
       "  <thead>\n",
       "    <tr style=\"text-align: right;\">\n",
       "      <th></th>\n",
       "      <th>count</th>\n",
       "    </tr>\n",
       "    <tr>\n",
       "      <th>Date</th>\n",
       "      <th></th>\n",
       "    </tr>\n",
       "  </thead>\n",
       "  <tbody>\n",
       "    <tr>\n",
       "      <th>1970-01-01 20:00:00</th>\n",
       "      <td>2</td>\n",
       "    </tr>\n",
       "    <tr>\n",
       "      <th>1970-01-01 20:15:00</th>\n",
       "      <td>6</td>\n",
       "    </tr>\n",
       "    <tr>\n",
       "      <th>1970-01-01 20:30:00</th>\n",
       "      <td>9</td>\n",
       "    </tr>\n",
       "    <tr>\n",
       "      <th>1970-01-01 20:45:00</th>\n",
       "      <td>7</td>\n",
       "    </tr>\n",
       "    <tr>\n",
       "      <th>1970-01-01 21:00:00</th>\n",
       "      <td>1</td>\n",
       "    </tr>\n",
       "  </tbody>\n",
       "</table>\n",
       "</div>"
      ],
      "text/plain": [
       "                     count\n",
       "Date                      \n",
       "1970-01-01 20:00:00      2\n",
       "1970-01-01 20:15:00      6\n",
       "1970-01-01 20:30:00      9\n",
       "1970-01-01 20:45:00      7\n",
       "1970-01-01 21:00:00      1"
      ]
     },
     "execution_count": 968,
     "metadata": {},
     "output_type": "execute_result"
    }
   ],
   "source": [
    "# Resampling the data frame every 15 min\n",
    "df_logins= df.resample('15Min').sum()\n",
    "df_logins.head()"
   ]
  },
  {
   "cell_type": "code",
   "execution_count": 969,
   "metadata": {},
   "outputs": [],
   "source": [
    "import matplotlib.pyplot as plt\n",
    "import seaborn as sns"
   ]
  },
  {
   "cell_type": "code",
   "execution_count": 970,
   "metadata": {},
   "outputs": [
    {
     "data": {
      "image/png": "[encoded data removed]",
      "text/plain": [
       "<Figure size 432x288 with 1 Axes>"
      ]
     },
     "metadata": {},
     "output_type": "display_data"
    }
   ],
   "source": [
    "#Graphing the 15 min time interval vs Date \n",
    "plt.plot(df_logins['count'])\n",
    "plt.xticks(rotation='vertical')\n",
    "plt.xlabel('Days of the Year')\n",
    "plt.ylabel('# of logins')\n",
    "plt.title('# of Logins for Each 15 Min Interval')\n",
    "plt.tight_layout()\n",
    "plt.show()"
   ]
  },
  {
   "cell_type": "markdown",
   "metadata": {},
   "source": [
    "There is an increasing trend from January to April and most of the logins are taking place at night."
   ]
  },
  {
   "cell_type": "markdown",
   "metadata": {},
   "source": [
    "Ultimate Part 2:Gotham and Metropolis"
   ]
  },
  {
   "cell_type": "markdown",
   "metadata": {},
   "source": [
    "According to the summary of activity it could be that all night workers would live in Gotham. They would then not have to cross the toll bridge to go to work. Metropolis residence could be the opposite and only work during the day. There could be an issue of cost in each city that would make one city more or less expensive to live in.  The variable that would useful to measure would by why are people using the bridge. We could think of this as activity.\n",
    "\n",
    "Collecting data on why people are crossing along with a z-test should help us determine if refunding tolls would be benificial. We could in fact use a null hypothsis of There is a significant difference in driver activity by refunding tolls. Using a z-test could give us a predetermined confidence interval related to activity and either reject or support our Null Hypothesis."
   ]
  },
  {
   "cell_type": "markdown",
   "metadata": {},
   "source": [
    "Part 3: Ultimate Challenge"
   ]
  },
  {
   "cell_type": "code",
   "execution_count": 971,
   "metadata": {},
   "outputs": [
    {
     "data": {
      "text/html": [
       "<div>\n",
       "<style scoped>\n",
       "    .dataframe tbody tr th:only-of-type {\n",
       "        vertical-align: middle;\n",
       "    }\n",
       "\n",
       "    .dataframe tbody tr th {\n",
       "        vertical-align: top;\n",
       "    }\n",
       "\n",
       "    .dataframe thead th {\n",
       "        text-align: right;\n",
       "    }\n",
       "</style>\n",
       "<table border=\"1\" class=\"dataframe\">\n",
       "  <thead>\n",
       "    <tr style=\"text-align: right;\">\n",
       "      <th></th>\n",
       "      <th>avg_dist</th>\n",
       "      <th>avg_rating_by_driver</th>\n",
       "      <th>avg_rating_of_driver</th>\n",
       "      <th>avg_surge</th>\n",
       "      <th>city</th>\n",
       "      <th>last_trip_date</th>\n",
       "      <th>phone</th>\n",
       "      <th>signup_date</th>\n",
       "      <th>surge_pct</th>\n",
       "      <th>trips_in_first_30_days</th>\n",
       "      <th>ultimate_black_user</th>\n",
       "      <th>weekday_pct</th>\n",
       "    </tr>\n",
       "  </thead>\n",
       "  <tbody>\n",
       "    <tr>\n",
       "      <th>0</th>\n",
       "      <td>3.67</td>\n",
       "      <td>5.0</td>\n",
       "      <td>4.7</td>\n",
       "      <td>1.10</td>\n",
       "      <td>King's Landing</td>\n",
       "      <td>2014-06-17</td>\n",
       "      <td>iPhone</td>\n",
       "      <td>2014-01-25</td>\n",
       "      <td>15.4</td>\n",
       "      <td>4</td>\n",
       "      <td>True</td>\n",
       "      <td>46.2</td>\n",
       "    </tr>\n",
       "    <tr>\n",
       "      <th>1</th>\n",
       "      <td>8.26</td>\n",
       "      <td>5.0</td>\n",
       "      <td>5.0</td>\n",
       "      <td>1.00</td>\n",
       "      <td>Astapor</td>\n",
       "      <td>2014-05-05</td>\n",
       "      <td>Android</td>\n",
       "      <td>2014-01-29</td>\n",
       "      <td>0.0</td>\n",
       "      <td>0</td>\n",
       "      <td>False</td>\n",
       "      <td>50.0</td>\n",
       "    </tr>\n",
       "    <tr>\n",
       "      <th>2</th>\n",
       "      <td>0.77</td>\n",
       "      <td>5.0</td>\n",
       "      <td>4.3</td>\n",
       "      <td>1.00</td>\n",
       "      <td>Astapor</td>\n",
       "      <td>2014-01-07</td>\n",
       "      <td>iPhone</td>\n",
       "      <td>2014-01-06</td>\n",
       "      <td>0.0</td>\n",
       "      <td>3</td>\n",
       "      <td>False</td>\n",
       "      <td>100.0</td>\n",
       "    </tr>\n",
       "    <tr>\n",
       "      <th>3</th>\n",
       "      <td>2.36</td>\n",
       "      <td>4.9</td>\n",
       "      <td>4.6</td>\n",
       "      <td>1.14</td>\n",
       "      <td>King's Landing</td>\n",
       "      <td>2014-06-29</td>\n",
       "      <td>iPhone</td>\n",
       "      <td>2014-01-10</td>\n",
       "      <td>20.0</td>\n",
       "      <td>9</td>\n",
       "      <td>True</td>\n",
       "      <td>80.0</td>\n",
       "    </tr>\n",
       "    <tr>\n",
       "      <th>4</th>\n",
       "      <td>3.13</td>\n",
       "      <td>4.9</td>\n",
       "      <td>4.4</td>\n",
       "      <td>1.19</td>\n",
       "      <td>Winterfell</td>\n",
       "      <td>2014-03-15</td>\n",
       "      <td>Android</td>\n",
       "      <td>2014-01-27</td>\n",
       "      <td>11.8</td>\n",
       "      <td>14</td>\n",
       "      <td>False</td>\n",
       "      <td>82.4</td>\n",
       "    </tr>\n",
       "    <tr>\n",
       "      <th>5</th>\n",
       "      <td>10.56</td>\n",
       "      <td>5.0</td>\n",
       "      <td>3.5</td>\n",
       "      <td>1.00</td>\n",
       "      <td>Winterfell</td>\n",
       "      <td>2014-06-06</td>\n",
       "      <td>iPhone</td>\n",
       "      <td>2014-01-09</td>\n",
       "      <td>0.0</td>\n",
       "      <td>2</td>\n",
       "      <td>True</td>\n",
       "      <td>100.0</td>\n",
       "    </tr>\n",
       "  </tbody>\n",
       "</table>\n",
       "</div>"
      ],
      "text/plain": [
       "   avg_dist  avg_rating_by_driver  avg_rating_of_driver  avg_surge  \\\n",
       "0      3.67                   5.0                   4.7       1.10   \n",
       "1      8.26                   5.0                   5.0       1.00   \n",
       "2      0.77                   5.0                   4.3       1.00   \n",
       "3      2.36                   4.9                   4.6       1.14   \n",
       "4      3.13                   4.9                   4.4       1.19   \n",
       "5     10.56                   5.0                   3.5       1.00   \n",
       "\n",
       "             city last_trip_date    phone signup_date  surge_pct  \\\n",
       "0  King's Landing     2014-06-17   iPhone  2014-01-25       15.4   \n",
       "1         Astapor     2014-05-05  Android  2014-01-29        0.0   \n",
       "2         Astapor     2014-01-07   iPhone  2014-01-06        0.0   \n",
       "3  King's Landing     2014-06-29   iPhone  2014-01-10       20.0   \n",
       "4      Winterfell     2014-03-15  Android  2014-01-27       11.8   \n",
       "5      Winterfell     2014-06-06   iPhone  2014-01-09        0.0   \n",
       "\n",
       "   trips_in_first_30_days  ultimate_black_user  weekday_pct  \n",
       "0                       4                 True         46.2  \n",
       "1                       0                False         50.0  \n",
       "2                       3                False        100.0  \n",
       "3                       9                 True         80.0  \n",
       "4                      14                False         82.4  \n",
       "5                       2                 True        100.0  "
      ]
     },
     "execution_count": 971,
     "metadata": {},
     "output_type": "execute_result"
    }
   ],
   "source": [
    "file=open('ultimate.json','r')\n",
    "file_c= file.read()\n",
    "file.close()\n",
    "data2=json.loads(file_c)\n",
    "rider=pd.DataFrame(data2)\n",
    "rider.head(6)"
   ]
  },
  {
   "cell_type": "code",
   "execution_count": 972,
   "metadata": {},
   "outputs": [
    {
     "data": {
      "text/plain": [
       "avg_dist                  0\n",
       "avg_rating_by_driver      0\n",
       "avg_rating_of_driver      0\n",
       "avg_surge                 0\n",
       "city                      0\n",
       "last_trip_date            0\n",
       "phone                     0\n",
       "signup_date               0\n",
       "surge_pct                 0\n",
       "trips_in_first_30_days    0\n",
       "ultimate_black_user       0\n",
       "weekday_pct               0\n",
       "dtype: int64"
      ]
     },
     "execution_count": 972,
     "metadata": {},
     "output_type": "execute_result"
    }
   ],
   "source": [
    "rider['avg_rating_by_driver'].fillna(rider['avg_rating_by_driver'].mean(), inplace=True)\n",
    "rider['avg_rating_of_driver'].fillna(rider['avg_rating_of_driver'].mean(), inplace=True)\n",
    "rider['phone'].fillna('Android', inplace=True)\n",
    "rider.isnull().sum()"
   ]
  },
  {
   "cell_type": "code",
   "execution_count": 973,
   "metadata": {},
   "outputs": [],
   "source": [
    "# Create all boolan and objects int\n",
    "cities= {\"King's Landing\":1, 'Winterfell':2, 'Astapor':3}\n",
    "rider['city']= rider['city'].map(lambda x: cities[x])\n",
    "phone= {'Android':1, 'iPhone':2}\n",
    "rider['phone']=rider['phone'].map(lambda i: phone[i])\n",
    "rider['last_trip_date']=pd.to_datetime(rider['last_trip_date'])\n",
    "rider['signup_date']=pd.to_datetime(rider['signup_date'])\n",
    "rider['Active Status']= ((rider['last_trip_date']- rider['signup_date']) / np.timedelta64(1, 'M')).\\\n",
    "    map(lambda x:1 if x >5 else 0)\n",
    "\n",
    "rider['ultimate_black_user']=rider['ultimate_black_user'].astype(int)"
   ]
  },
  {
   "cell_type": "code",
   "execution_count": 974,
   "metadata": {},
   "outputs": [
    {
     "data": {
      "text/html": [
       "<div>\n",
       "<style scoped>\n",
       "    .dataframe tbody tr th:only-of-type {\n",
       "        vertical-align: middle;\n",
       "    }\n",
       "\n",
       "    .dataframe tbody tr th {\n",
       "        vertical-align: top;\n",
       "    }\n",
       "\n",
       "    .dataframe thead th {\n",
       "        text-align: right;\n",
       "    }\n",
       "</style>\n",
       "<table border=\"1\" class=\"dataframe\">\n",
       "  <thead>\n",
       "    <tr style=\"text-align: right;\">\n",
       "      <th></th>\n",
       "      <th>avg_dist</th>\n",
       "      <th>avg_rating_by_driver</th>\n",
       "      <th>avg_rating_of_driver</th>\n",
       "      <th>avg_surge</th>\n",
       "      <th>city</th>\n",
       "      <th>phone</th>\n",
       "      <th>trips_in_first_30_days</th>\n",
       "      <th>ultimate_black_user</th>\n",
       "      <th>weekday_pct</th>\n",
       "      <th>Active Status</th>\n",
       "    </tr>\n",
       "  </thead>\n",
       "  <tbody>\n",
       "    <tr>\n",
       "      <th>0</th>\n",
       "      <td>3.67</td>\n",
       "      <td>5.0</td>\n",
       "      <td>4.7</td>\n",
       "      <td>1.10</td>\n",
       "      <td>1</td>\n",
       "      <td>2</td>\n",
       "      <td>4</td>\n",
       "      <td>1</td>\n",
       "      <td>46.2</td>\n",
       "      <td>0</td>\n",
       "    </tr>\n",
       "    <tr>\n",
       "      <th>1</th>\n",
       "      <td>8.26</td>\n",
       "      <td>5.0</td>\n",
       "      <td>5.0</td>\n",
       "      <td>1.00</td>\n",
       "      <td>3</td>\n",
       "      <td>1</td>\n",
       "      <td>0</td>\n",
       "      <td>0</td>\n",
       "      <td>50.0</td>\n",
       "      <td>0</td>\n",
       "    </tr>\n",
       "    <tr>\n",
       "      <th>2</th>\n",
       "      <td>0.77</td>\n",
       "      <td>5.0</td>\n",
       "      <td>4.3</td>\n",
       "      <td>1.00</td>\n",
       "      <td>3</td>\n",
       "      <td>2</td>\n",
       "      <td>3</td>\n",
       "      <td>0</td>\n",
       "      <td>100.0</td>\n",
       "      <td>0</td>\n",
       "    </tr>\n",
       "    <tr>\n",
       "      <th>3</th>\n",
       "      <td>2.36</td>\n",
       "      <td>4.9</td>\n",
       "      <td>4.6</td>\n",
       "      <td>1.14</td>\n",
       "      <td>1</td>\n",
       "      <td>2</td>\n",
       "      <td>9</td>\n",
       "      <td>1</td>\n",
       "      <td>80.0</td>\n",
       "      <td>1</td>\n",
       "    </tr>\n",
       "    <tr>\n",
       "      <th>4</th>\n",
       "      <td>3.13</td>\n",
       "      <td>4.9</td>\n",
       "      <td>4.4</td>\n",
       "      <td>1.19</td>\n",
       "      <td>2</td>\n",
       "      <td>1</td>\n",
       "      <td>14</td>\n",
       "      <td>0</td>\n",
       "      <td>82.4</td>\n",
       "      <td>0</td>\n",
       "    </tr>\n",
       "  </tbody>\n",
       "</table>\n",
       "</div>"
      ],
      "text/plain": [
       "   avg_dist  avg_rating_by_driver  avg_rating_of_driver  avg_surge  city  \\\n",
       "0      3.67                   5.0                   4.7       1.10     1   \n",
       "1      8.26                   5.0                   5.0       1.00     3   \n",
       "2      0.77                   5.0                   4.3       1.00     3   \n",
       "3      2.36                   4.9                   4.6       1.14     1   \n",
       "4      3.13                   4.9                   4.4       1.19     2   \n",
       "\n",
       "   phone  trips_in_first_30_days  ultimate_black_user  weekday_pct  \\\n",
       "0      2                       4                    1         46.2   \n",
       "1      1                       0                    0         50.0   \n",
       "2      2                       3                    0        100.0   \n",
       "3      2                       9                    1         80.0   \n",
       "4      1                      14                    0         82.4   \n",
       "\n",
       "   Active Status  \n",
       "0              0  \n",
       "1              0  \n",
       "2              0  \n",
       "3              1  \n",
       "4              0  "
      ]
     },
     "execution_count": 974,
     "metadata": {},
     "output_type": "execute_result"
    }
   ],
   "source": [
    "rider.drop(['surge_pct','last_trip_date','signup_date'], axis=1, inplace=True)\n",
    "rider.head()"
   ]
  },
  {
   "cell_type": "code",
   "execution_count": 975,
   "metadata": {
    "scrolled": true
   },
   "outputs": [
    {
     "name": "stdout",
     "output_type": "stream",
     "text": [
      "0    38806\n",
      "1    11194\n",
      "Name: Active Status, dtype: int64\n"
     ]
    }
   ],
   "source": [
    "print(rider['Active Status'].value_counts())"
   ]
  },
  {
   "cell_type": "markdown",
   "metadata": {},
   "source": [
    "There are 38806 drivers with at least 6 month retention."
   ]
  },
  {
   "cell_type": "code",
   "execution_count": 976,
   "metadata": {},
   "outputs": [],
   "source": [
    "from sklearn.linear_model import LogisticRegression\n",
    "from sklearn.model_selection import train_test_split, GridSearchCV\n",
    "from sklearn.preprocessing import StandardScaler\n",
    "from sklearn.decomposition import PCA\n",
    "from sklearn.metrics import f1_score, precision_score, recall_score, accuracy_score, confusion_matrix\n",
    "from sklearn.pipeline import Pipeline\n",
    "from sklearn.tree import DecisionTreeClassifier"
   ]
  },
  {
   "cell_type": "code",
   "execution_count": 977,
   "metadata": {},
   "outputs": [
    {
     "data": {
      "image/png": "[encoded data removed]",
      "text/plain": [
       "<Figure size 288x216 with 1 Axes>"
      ]
     },
     "metadata": {},
     "output_type": "display_data"
    }
   ],
   "source": [
    "#setup a logistic regresssion using a pipeline with multiple param grid values and GridsearchCV\n",
    "\n",
    "logistic= LogisticRegression()\n",
    "pca=PCA()\n",
    "pipe= Pipeline(steps=[('scaler', StandardScaler),('pca',pca),('logistic',logistic)])\n",
    "                 \n",
    "X=rider.drop(['Active Status'], axis=1)\n",
    "y=rider['Active Status']\n",
    "                 \n",
    "pca.fit(X)\n",
    "\n",
    "plt.figure(1, figsize=(4,3))\n",
    "plt.clf()\n",
    "plt.axes([.2,.2,.7,.7])\n",
    "plt.plot(pca.explained_variance_, linewidth=2)\n",
    "plt.axis('tight')\n",
    "plt.xlabel('n_components')\n",
    "plt.ylabel('explained variance')\n",
    "plt.show()"
   ]
  },
  {
   "cell_type": "code",
   "execution_count": 978,
   "metadata": {},
   "outputs": [
    {
     "name": "stderr",
     "output_type": "stream",
     "text": [
      "C:\\Users\\Kevin Bryson\\Anaconda3\\lib\\site-packages\\sklearn\\model_selection\\_split.py:2026: FutureWarning: From version 0.21, test_size will always complement train_size unless both are specified.\n",
      "  FutureWarning)\n"
     ]
    },
    {
     "name": "stdout",
     "output_type": "stream",
     "text": [
      "Decision Tree Scores\n",
      "f1_score            0.377543\n",
      "test_accuracy       0.719343\n",
      "Confusion Matrix: [[22198  4932]\n",
      " [ 4891  2979]]\n",
      "[0.33224573 0.19326406 0.21244165 0.26204856]\n",
      "Logistic Regression Scores\n",
      "f1 score            0.145579\n",
      "test_accuracy       0.779657\n",
      "Confusion Matrix: [[26631   499]\n",
      " [ 7213   657]]\n"
     ]
    }
   ],
   "source": [
    "#Using decomposition to get the top 4\n",
    "pca=PCA(n_components=4, svd_solver='full')\n",
    "pca.fit(rider.drop(['Active Status'], axis=1))\n",
    "\n",
    "X=pca.transform(rider.drop(['Active Status'], axis=1))\n",
    "y=rider['Active Status']\n",
    "\n",
    "scaler=StandardScaler()\n",
    "scaler.fit(X)\n",
    "scaler.fit_transform(X)\n",
    "\n",
    "X_train, X_test, y_train, y_test = train_test_split(X, y, train_size=0.30, random_state=42)\n",
    "\n",
    "logreg=LogisticRegression()\n",
    "logreg.fit(X_train, y_train)\n",
    "y_pred=logreg.predict(X_test)\n",
    "\n",
    "tree=DecisionTreeClassifier()\n",
    "tree.fit(X_train, y_train)\n",
    "y_tree_pred=tree.predict(X_test)\n",
    "print('Decision Tree Scores')\n",
    "print('{:20}{:3f}'.format('f1_score', f1_score(y_test, y_tree_pred)))\n",
    "print('{:20}{:3f}'.format('test_accuracy', accuracy_score(y_test, y_tree_pred)))\n",
    "print('Confusion Matrix:',confusion_matrix(y_test, y_tree_pred))\n",
    "print(tree.feature_importances_)\n",
    "print('Logistic Regression Scores')\n",
    "print('{:20}{:3f}'.format('f1 score', f1_score(y_test, y_pred)))\n",
    "print('{:20}{:3f}'.format('test_accuracy', accuracy_score(y_test, y_pred)))\n",
    "print('Confusion Matrix:', confusion_matrix(y_test, y_pred))"
   ]
  },
  {
   "cell_type": "markdown",
   "metadata": {},
   "source": [
    "I chose to run a logistic regression and a decision tree to see if one was better than the other. I more comprehensive strategy would have been to run each through a GridSearchCV using a Pipeline. \n",
    "\n",
    "If the decision tree and the logistic regression where given an unknown data set, it seems that logistic regression would have a higher accuracy rate. The feature that was the most important for us were the ones that had to do with surveys and ratings of drives.\n",
    "    - To increase retention, drivers could be exposed to a class on customer service to increase ratings. This class could be completed as an online class at the drivers own pace.\n",
    "    "
   ]
  }
 ],
 "metadata": {
  "kernelspec": {
   "display_name": "Python 3",
   "language": "python",
   "name": "python3"
  },
  "language_info": {
   "codemirror_mode": {
    "name": "ipython",
    "version": 3
   },
   "file_extension": ".py",
   "mimetype": "text/x-python",
   "name": "python",
   "nbconvert_exporter": "python",
   "pygments_lexer": "ipython3",
   "version": "3.6.5"
  }
 },
 "nbformat": 4,
 "nbformat_minor": 2
}
